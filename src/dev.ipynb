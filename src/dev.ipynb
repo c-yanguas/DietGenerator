{
 "cells": [
  {
   "cell_type": "code",
   "execution_count": 1,
   "metadata": {},
   "outputs": [
    {
     "ename": "ValueError",
     "evalue": "No existen actualizaciones desde la ultima ejecucion en el fichero d:\\Repositorios\\dev\\Sergio_Tejeda\\src/../Datos/Usuarios_General.xlsx",
     "output_type": "error",
     "traceback": [
      "\u001b[1;31m---------------------------------------------------------------------------\u001b[0m",
      "\u001b[1;31mValueError\u001b[0m                                Traceback (most recent call last)",
      "Cell \u001b[1;32mIn[1], line 6\u001b[0m\n\u001b[0;32m      2\u001b[0m get_ipython()\u001b[38;5;241m.\u001b[39mrun_line_magic(\u001b[38;5;124m'\u001b[39m\u001b[38;5;124mautoreload\u001b[39m\u001b[38;5;124m'\u001b[39m, \u001b[38;5;124m'\u001b[39m\u001b[38;5;124m2\u001b[39m\u001b[38;5;124m'\u001b[39m)\n\u001b[0;32m      3\u001b[0m \u001b[38;5;28;01mfrom\u001b[39;00m \u001b[38;5;21;01mDietHandler\u001b[39;00m \u001b[38;5;28;01mimport\u001b[39;00m \u001b[38;5;241m*\u001b[39m\n\u001b[1;32m----> 6\u001b[0m \u001b[43mgenerate_diets\u001b[49m\u001b[43m(\u001b[49m\u001b[38;5;28;43;01mTrue\u001b[39;49;00m\u001b[43m)\u001b[49m\n",
      "File \u001b[1;32md:\\Repositorios\\dev\\Sergio_Tejeda\\src\\DietHandler.py:330\u001b[0m, in \u001b[0;36mgenerate_diets\u001b[1;34m(recreate_client_dirs)\u001b[0m\n\u001b[0;32m    328\u001b[0m \u001b[38;5;28;01mdef\u001b[39;00m \u001b[38;5;21mgenerate_diets\u001b[39m(recreate_client_dirs\u001b[38;5;241m=\u001b[39m\u001b[38;5;28;01mFalse\u001b[39;00m):\n\u001b[0;32m    329\u001b[0m     \u001b[38;5;66;03m# 1-get dataframe config updates\u001b[39;00m\n\u001b[1;32m--> 330\u001b[0m     df_config \u001b[38;5;241m=\u001b[39m \u001b[43mdetect_updates\u001b[49m\u001b[43m(\u001b[49m\u001b[43m)\u001b[49m\n\u001b[0;32m    331\u001b[0m     \u001b[38;5;66;03m# 2-Reset client folder\u001b[39;00m\n\u001b[0;32m    332\u001b[0m     \u001b[38;5;28;01mif\u001b[39;00m recreate_client_dirs:\n",
      "File \u001b[1;32md:\\Repositorios\\dev\\Sergio_Tejeda\\src\\HistoricHandler.py:28\u001b[0m, in \u001b[0;36mdetect_updates\u001b[1;34m()\u001b[0m\n\u001b[0;32m     25\u001b[0m     df \u001b[38;5;241m=\u001b[39m pd\u001b[38;5;241m.\u001b[39mconcat([df1, df2])\u001b[38;5;241m.\u001b[39mdrop_duplicates(keep\u001b[38;5;241m=\u001b[39m\u001b[38;5;28;01mFalse\u001b[39;00m)\n\u001b[0;32m     27\u001b[0m \u001b[38;5;28;01mif\u001b[39;00m \u001b[38;5;28mlen\u001b[39m(df) \u001b[38;5;241m==\u001b[39m \u001b[38;5;241m0\u001b[39m:\n\u001b[1;32m---> 28\u001b[0m     \u001b[38;5;28;01mraise\u001b[39;00m \u001b[38;5;167;01mValueError\u001b[39;00m(\u001b[38;5;124mf\u001b[39m\u001b[38;5;124m\"\u001b[39m\u001b[38;5;124mNo existen actualizaciones desde la ultima ejecucion en el fichero \u001b[39m\u001b[38;5;132;01m{\u001b[39;00mct\u001b[38;5;241m.\u001b[39mClientConfiguration\u001b[38;5;241m.\u001b[39mPATH\u001b[38;5;132;01m}\u001b[39;00m\u001b[38;5;124m\"\u001b[39m)\n\u001b[0;32m     29\u001b[0m \u001b[38;5;28;01mreturn\u001b[39;00m df\n",
      "\u001b[1;31mValueError\u001b[0m: No existen actualizaciones desde la ultima ejecucion en el fichero d:\\Repositorios\\dev\\Sergio_Tejeda\\src/../Datos/Usuarios_General.xlsx"
     ]
    }
   ],
   "source": [
    "%reload_ext autoreload\n",
    "%autoreload 2\n",
    "from DietHandler import *\n",
    "\n",
    "\n",
    "generate_diets(True)"
   ]
  },
  {
   "cell_type": "code",
   "execution_count": 8,
   "metadata": {},
   "outputs": [],
   "source": [
    "%reload_ext autoreload\n",
    "%autoreload 2\n",
    "# Ejemplo de uso:\n",
    "# Suponiendo que deseas copiar las filas desde la fila 2 hasta la fila 5 debajo de la fila 10\n",
    "# en el archivo Excel 'mi_archivo.xlsx'.\n",
    "from ExcelHandler import *\n",
    "copiar_archivo('template_1_comida.xlsx', \"output.xlsx\")\n",
    "# # copy_rows_below('output.xlsx', 24, 36)\n",
    "# copiar_fila_n_veces('output.xlsx', 26, 27, 100)\n",
    "escribir_en_celda('output.xlsx', \"C8\", \"nombre_de cliente chavalote y con tildeéñl¡\")"
   ]
  },
  {
   "cell_type": "code",
   "execution_count": 1,
   "metadata": {},
   "outputs": [
    {
     "name": "stdout",
     "output_type": "stream",
     "text": [
      "El resultado de sumar 6 a A1 es: A7\n"
     ]
    }
   ],
   "source": [
    "def suma_celda_y_entero(nombre_celda, entero):\n",
    "    # Extraer la parte alfabética del nombre de la celda (por ejemplo, \"A\" de \"A1\")\n",
    "    parte_alfabetica = ''.join(filter(str.isalpha, nombre_celda))\n",
    "\n",
    "    # Extraer la parte numérica del nombre de la celda (por ejemplo, \"1\" de \"A1\")\n",
    "    parte_numerica = ''.join(filter(str.isdigit, nombre_celda))\n",
    "\n",
    "    # Sumar el entero a la parte numérica y obtener el nuevo nombre de la celda\n",
    "    nuevo_numero = int(parte_numerica) + entero\n",
    "    nuevo_nombre_celda = f\"{parte_alfabetica}{nuevo_numero}\"\n",
    "\n",
    "    return nuevo_nombre_celda\n",
    "\n",
    "# Ejemplo de uso\n",
    "nombre_celda = \"A1\"\n",
    "entero = 6\n",
    "\n",
    "resultado = suma_celda_y_entero(nombre_celda, entero)\n",
    "print(f\"El resultado de sumar {entero} a {nombre_celda} es: {resultado}\")\n"
   ]
  }
 ],
 "metadata": {
  "kernelspec": {
   "display_name": "base",
   "language": "python",
   "name": "python3"
  },
  "language_info": {
   "codemirror_mode": {
    "name": "ipython",
    "version": 3
   },
   "file_extension": ".py",
   "mimetype": "text/x-python",
   "name": "python",
   "nbconvert_exporter": "python",
   "pygments_lexer": "ipython3",
   "version": "3.10.9"
  }
 },
 "nbformat": 4,
 "nbformat_minor": 2
}
